{
 "cells": [
  {
   "cell_type": "code",
   "execution_count": 1,
   "id": "b535c667-de78-45df-bb42-2982cd676c9d",
   "metadata": {},
   "outputs": [],
   "source": [
    "import numpy as np\n",
    "import pandas as pd"
   ]
  },
  {
   "cell_type": "code",
   "execution_count": 3,
   "id": "d69d045f-ff41-4a0e-a6df-903e1e418d2f",
   "metadata": {},
   "outputs": [
    {
     "data": {
      "text/plain": [
       "(26707, 36)"
      ]
     },
     "execution_count": 3,
     "metadata": {},
     "output_type": "execute_result"
    }
   ],
   "source": [
    "X_train  = pd.read_csv(\"training_set_features.csv\")\n",
    "X_train.head()\n",
    "X_train.shape"
   ]
  },
  {
   "cell_type": "code",
   "execution_count": 5,
   "id": "c8c58801-8228-4110-a2db-b0d2e0969505",
   "metadata": {},
   "outputs": [
    {
     "data": {
      "text/plain": [
       "respondent_id                      0\n",
       "xyz_concern                       92\n",
       "xyz_knowledge                    116\n",
       "behavioral_antiviral_meds         71\n",
       "behavioral_avoidance             208\n",
       "behavioral_face_mask              19\n",
       "behavioral_wash_hands             42\n",
       "behavioral_large_gatherings       87\n",
       "behavioral_outside_home           82\n",
       "behavioral_touch_face            128\n",
       "doctor_recc_xyz                 2160\n",
       "doctor_recc_seasonal            2160\n",
       "chronic_med_condition            971\n",
       "child_under_6_months             820\n",
       "health_worker                    804\n",
       "health_insurance               12274\n",
       "opinion_xyz_vacc_effective       391\n",
       "opinion_xyz_risk                 388\n",
       "opinion_xyz_sick_from_vacc       395\n",
       "opinion_seas_vacc_effective      462\n",
       "opinion_seas_risk                514\n",
       "opinion_seas_sick_from_vacc      537\n",
       "age_group                          0\n",
       "education                       1407\n",
       "race                               0\n",
       "sex                                0\n",
       "income_poverty                  4423\n",
       "marital_status                  1408\n",
       "rent_or_own                     2042\n",
       "employment_status               1463\n",
       "hhs_geo_region                     0\n",
       "census_msa                         0\n",
       "household_adults                 249\n",
       "household_children               249\n",
       "employment_industry            13330\n",
       "employment_occupation          13470\n",
       "dtype: int64"
      ]
     },
     "execution_count": 5,
     "metadata": {},
     "output_type": "execute_result"
    }
   ],
   "source": [
    "X_train.isnull().sum()"
   ]
  },
  {
   "cell_type": "code",
   "execution_count": 7,
   "id": "e49e9059-147b-458b-9c9b-dfe37d91df9d",
   "metadata": {},
   "outputs": [
    {
     "data": {
      "text/plain": [
       "respondent_id                      0\n",
       "xyz_concern                        0\n",
       "xyz_knowledge                      0\n",
       "behavioral_antiviral_meds          0\n",
       "behavioral_avoidance               0\n",
       "behavioral_face_mask               0\n",
       "behavioral_wash_hands              0\n",
       "behavioral_large_gatherings        0\n",
       "behavioral_outside_home            0\n",
       "behavioral_touch_face              0\n",
       "doctor_recc_xyz                    0\n",
       "doctor_recc_seasonal               0\n",
       "chronic_med_condition            971\n",
       "child_under_6_months               0\n",
       "health_worker                      0\n",
       "health_insurance               12274\n",
       "opinion_xyz_vacc_effective         0\n",
       "opinion_xyz_risk                   0\n",
       "opinion_xyz_sick_from_vacc         0\n",
       "opinion_seas_vacc_effective        0\n",
       "opinion_seas_risk                  0\n",
       "opinion_seas_sick_from_vacc        0\n",
       "age_group                          0\n",
       "education                       1407\n",
       "race                               0\n",
       "sex                                0\n",
       "income_poverty                  4423\n",
       "marital_status                  1408\n",
       "rent_or_own                     2042\n",
       "employment_status               1463\n",
       "hhs_geo_region                     0\n",
       "census_msa                         0\n",
       "household_adults                   0\n",
       "household_children                 0\n",
       "employment_industry            13330\n",
       "employment_occupation          13470\n",
       "dtype: int64"
      ]
     },
     "execution_count": 7,
     "metadata": {},
     "output_type": "execute_result"
    }
   ],
   "source": [
    "X_train['xyz_concern'].fillna(X_train['xyz_concern'].median(), inplace=True)\n",
    "X_train['xyz_knowledge'].fillna(X_train['xyz_knowledge'].median(), inplace=True)\n",
    "X_train['household_adults'].fillna(X_train['household_adults'].median(), inplace=True)\n",
    "X_train['household_children'].fillna(X_train['household_children'].median(), inplace=True)\n",
    "X_train['behavioral_avoidance'].fillna(0,inplace = True)\n",
    "X_train['behavioral_touch_face'].fillna(0,inplace = True)\n",
    "X_train['behavioral_large_gatherings'].fillna(0,inplace = True)\n",
    "X_train['behavioral_antiviral_meds'].fillna(0,inplace = True)\n",
    "X_train['behavioral_outside_home'].fillna(0,inplace = True)\n",
    "X_train['behavioral_wash_hands'].fillna(0,inplace = True)\n",
    "X_train['behavioral_face_mask'].fillna(0,inplace = True)\n",
    "X_train['doctor_recc_xyz'].fillna(0, inplace=True)\n",
    "X_train['doctor_recc_seasonal'].fillna(0, inplace=True)\n",
    "X_train['opinion_xyz_vacc_effective'].fillna(X_train['opinion_xyz_vacc_effective'].mode()[0], inplace=True)\n",
    "X_train['opinion_xyz_risk'].fillna(X_train['opinion_xyz_risk'].mode()[0], inplace=True)\n",
    "X_train['opinion_xyz_sick_from_vacc'].fillna(X_train['opinion_xyz_sick_from_vacc'].mode()[0], inplace=True)\n",
    "X_train['opinion_seas_vacc_effective'].fillna(X_train['opinion_seas_vacc_effective'].mode()[0], inplace=True)\n",
    "X_train['opinion_seas_risk'].fillna(X_train['opinion_seas_risk'].mode()[0], inplace=True)\n",
    "X_train['opinion_seas_sick_from_vacc'].fillna(X_train['opinion_seas_sick_from_vacc'].mode()[0], inplace=True)\n",
    "X_train['child_under_6_months'].fillna(0, inplace=True)\n",
    "X_train['health_worker'].fillna(0, inplace=True)\n",
    "X_train.isnull().sum()"
   ]
  },
  {
   "cell_type": "code",
   "execution_count": 9,
   "id": "74e50327-9f2c-4a7f-b22c-1049ba69bba9",
   "metadata": {},
   "outputs": [
    {
     "data": {
      "text/plain": [
       "respondent_id                    int64\n",
       "xyz_concern                    float64\n",
       "xyz_knowledge                  float64\n",
       "behavioral_antiviral_meds      float64\n",
       "behavioral_avoidance           float64\n",
       "behavioral_face_mask           float64\n",
       "behavioral_wash_hands          float64\n",
       "behavioral_large_gatherings    float64\n",
       "behavioral_outside_home        float64\n",
       "behavioral_touch_face          float64\n",
       "doctor_recc_xyz                float64\n",
       "doctor_recc_seasonal           float64\n",
       "chronic_med_condition          float64\n",
       "child_under_6_months           float64\n",
       "health_worker                  float64\n",
       "health_insurance               float64\n",
       "opinion_xyz_vacc_effective     float64\n",
       "opinion_xyz_risk               float64\n",
       "opinion_xyz_sick_from_vacc     float64\n",
       "opinion_seas_vacc_effective    float64\n",
       "opinion_seas_risk              float64\n",
       "opinion_seas_sick_from_vacc    float64\n",
       "age_group                       object\n",
       "education                      float64\n",
       "race                            object\n",
       "sex                              int64\n",
       "income_poverty                 float64\n",
       "marital_status                 float64\n",
       "rent_or_own                    float64\n",
       "employment_status              float64\n",
       "hhs_geo_region                  object\n",
       "census_msa                      object\n",
       "household_adults               float64\n",
       "household_children             float64\n",
       "employment_industry             object\n",
       "employment_occupation           object\n",
       "dtype: object"
      ]
     },
     "execution_count": 9,
     "metadata": {},
     "output_type": "execute_result"
    }
   ],
   "source": [
    "cleanup_nums = {\"sex\":     {\"Male\": 0, \"Female\": 1},\n",
    "               \"marital_status\": {\"Married\": 1, \"Not Married\": 0 },\n",
    "               \"rent_or_own\":{\"Rent\":0,\"Own\":1},\n",
    "               \"income_poverty\":{'Below Poverty':0,'<= $75,000, Above Poverty':1,'> $75,000':2},\n",
    "               \"employment_status\":{'Unemployed':0,'Not in Labor Force':1,'Employed':2},\n",
    "               \"education\":{'< 12 Years':0,'12 Years':1,'Some College':2,'College Graduate':3}}\n",
    "X_train = X_train.replace(cleanup_nums)\n",
    "X_train.dtypes"
   ]
  },
  {
   "cell_type": "code",
   "execution_count": 11,
   "id": "98b5f85f-48e0-468b-b4e0-6203421b6b73",
   "metadata": {},
   "outputs": [
    {
     "data": {
      "text/plain": [
       "respondent_id                       int64\n",
       "xyz_concern                       float64\n",
       "xyz_knowledge                     float64\n",
       "behavioral_antiviral_meds         float64\n",
       "behavioral_avoidance              float64\n",
       "behavioral_face_mask              float64\n",
       "behavioral_wash_hands             float64\n",
       "behavioral_large_gatherings       float64\n",
       "behavioral_outside_home           float64\n",
       "behavioral_touch_face             float64\n",
       "doctor_recc_xyz                   float64\n",
       "doctor_recc_seasonal              float64\n",
       "chronic_med_condition             float64\n",
       "child_under_6_months              float64\n",
       "health_worker                     float64\n",
       "opinion_xyz_vacc_effective        float64\n",
       "opinion_xyz_risk                  float64\n",
       "opinion_xyz_sick_from_vacc        float64\n",
       "opinion_seas_vacc_effective       float64\n",
       "opinion_seas_risk                 float64\n",
       "opinion_seas_sick_from_vacc       float64\n",
       "education                         float64\n",
       "sex                                 int64\n",
       "income_poverty                    float64\n",
       "marital_status                    float64\n",
       "rent_or_own                       float64\n",
       "employment_status                 float64\n",
       "household_adults                  float64\n",
       "household_children                float64\n",
       "age_group_35 - 44 Years             int32\n",
       "age_group_45 - 54 Years             int32\n",
       "age_group_55 - 64 Years             int32\n",
       "age_group_65+ Years                 int32\n",
       "race_Hispanic                       int32\n",
       "race_Other or Multiple              int32\n",
       "race_White                          int32\n",
       "census_msa_MSA, Principle City      int32\n",
       "census_msa_Non-MSA                  int32\n",
       "hhs_geo_region_bhuqouqj             int32\n",
       "hhs_geo_region_dqpwygqj             int32\n",
       "hhs_geo_region_fpwskwrf             int32\n",
       "hhs_geo_region_kbazzjca             int32\n",
       "hhs_geo_region_lrircsnp             int32\n",
       "hhs_geo_region_lzgpxyit             int32\n",
       "hhs_geo_region_mlyzmhmf             int32\n",
       "hhs_geo_region_oxchjgsf             int32\n",
       "hhs_geo_region_qufhixun             int32\n",
       "dtype: object"
      ]
     },
     "execution_count": 11,
     "metadata": {},
     "output_type": "execute_result"
    }
   ],
   "source": [
    "X_train = X_train.drop(['employment_industry','employment_occupation','health_insurance'],axis=1)\n",
    "X_train = pd.get_dummies(X_train, columns=['age_group','race','census_msa','hhs_geo_region'],dtype='int32',drop_first = True)\n",
    "X_train.dtypes"
   ]
  },
  {
   "cell_type": "code",
   "execution_count": 13,
   "id": "1a810380-f701-4093-9c18-e266a14216ff",
   "metadata": {},
   "outputs": [
    {
     "data": {
      "text/plain": [
       "respondent_id                     0\n",
       "xyz_concern                       0\n",
       "xyz_knowledge                     0\n",
       "behavioral_antiviral_meds         0\n",
       "behavioral_avoidance              0\n",
       "behavioral_face_mask              0\n",
       "behavioral_wash_hands             0\n",
       "behavioral_large_gatherings       0\n",
       "behavioral_outside_home           0\n",
       "behavioral_touch_face             0\n",
       "doctor_recc_xyz                   0\n",
       "doctor_recc_seasonal              0\n",
       "chronic_med_condition             0\n",
       "child_under_6_months              0\n",
       "health_worker                     0\n",
       "opinion_xyz_vacc_effective        0\n",
       "opinion_xyz_risk                  0\n",
       "opinion_xyz_sick_from_vacc        0\n",
       "opinion_seas_vacc_effective       0\n",
       "opinion_seas_risk                 0\n",
       "opinion_seas_sick_from_vacc       0\n",
       "education                         0\n",
       "sex                               0\n",
       "income_poverty                    0\n",
       "marital_status                    0\n",
       "rent_or_own                       0\n",
       "employment_status                 0\n",
       "household_adults                  0\n",
       "household_children                0\n",
       "age_group_35 - 44 Years           0\n",
       "age_group_45 - 54 Years           0\n",
       "age_group_55 - 64 Years           0\n",
       "age_group_65+ Years               0\n",
       "race_Hispanic                     0\n",
       "race_Other or Multiple            0\n",
       "race_White                        0\n",
       "census_msa_MSA, Principle City    0\n",
       "census_msa_Non-MSA                0\n",
       "hhs_geo_region_bhuqouqj           0\n",
       "hhs_geo_region_dqpwygqj           0\n",
       "hhs_geo_region_fpwskwrf           0\n",
       "hhs_geo_region_kbazzjca           0\n",
       "hhs_geo_region_lrircsnp           0\n",
       "hhs_geo_region_lzgpxyit           0\n",
       "hhs_geo_region_mlyzmhmf           0\n",
       "hhs_geo_region_oxchjgsf           0\n",
       "hhs_geo_region_qufhixun           0\n",
       "dtype: int64"
      ]
     },
     "execution_count": 13,
     "metadata": {},
     "output_type": "execute_result"
    }
   ],
   "source": [
    "X_train['employment_status'].fillna(0, inplace=True)\n",
    "X_train['rent_or_own'].fillna(X_train.rent_or_own.mode()[0], inplace=True)\n",
    "X_train['marital_status'].fillna(0, inplace=True)\n",
    "X_train['income_poverty'].fillna(X_train.income_poverty.mode()[0], inplace=True)\n",
    "X_train['education'].fillna(0, inplace=True)\n",
    "X_train['chronic_med_condition'].fillna(0, inplace=True)\n",
    "X_train.isnull().sum()"
   ]
  },
  {
   "cell_type": "code",
   "execution_count": 35,
   "id": "32bc577c-90f7-40f3-96dd-a613eda8dfd8",
   "metadata": {},
   "outputs": [
    {
     "data": {
      "text/plain": [
       "(26707, 47)"
      ]
     },
     "execution_count": 35,
     "metadata": {},
     "output_type": "execute_result"
    }
   ],
   "source": [
    "X_train.shape"
   ]
  },
  {
   "cell_type": "code",
   "execution_count": 57,
   "id": "e312bc35-9ef3-4828-ab28-936d294ddc87",
   "metadata": {},
   "outputs": [
    {
     "data": {
      "text/plain": [
       "xyz_vaccine\n",
       "0    21033\n",
       "1     5674\n",
       "Name: count, dtype: int64"
      ]
     },
     "execution_count": 57,
     "metadata": {},
     "output_type": "execute_result"
    }
   ],
   "source": [
    "Y_train = pd.read_csv(\"training_set_labels.csv\")\n",
    "Y_train.xyz_vaccine.value_counts()"
   ]
  },
  {
   "cell_type": "code",
   "execution_count": null,
   "id": "58564d47-01e9-4f88-910d-c8f4168b5bdb",
   "metadata": {},
   "outputs": [],
   "source": []
  },
  {
   "cell_type": "code",
   "execution_count": 17,
   "id": "3cea4977-6f52-4992-b042-3a843bc648ef",
   "metadata": {},
   "outputs": [
    {
     "data": {
      "text/plain": [
       "respondent_id       0\n",
       "xyz_vaccine         0\n",
       "seasonal_vaccine    0\n",
       "dtype: int64"
      ]
     },
     "execution_count": 17,
     "metadata": {},
     "output_type": "execute_result"
    }
   ],
   "source": [
    "Y_train.isnull().sum()"
   ]
  },
  {
   "cell_type": "code",
   "execution_count": 19,
   "id": "179a8b89-ec43-4d62-b2bd-ec33f76f3acc",
   "metadata": {},
   "outputs": [],
   "source": [
    "from sklearn.linear_model import LogisticRegression\n",
    "model1 = LogisticRegression(penalty='l2', C=1.0, solver='lbfgs', multi_class='multinomial', max_iter=1000)\n",
    "model2 = LogisticRegression(penalty='l2', C=1.0, solver='lbfgs', multi_class='multinomial', max_iter=1000)"
   ]
  },
  {
   "cell_type": "code",
   "execution_count": 21,
   "id": "776b3a21-5780-42cd-b9fe-02783fa59a12",
   "metadata": {},
   "outputs": [
    {
     "data": {
      "text/html": [
       "<style>#sk-container-id-1 {color: black;background-color: white;}#sk-container-id-1 pre{padding: 0;}#sk-container-id-1 div.sk-toggleable {background-color: white;}#sk-container-id-1 label.sk-toggleable__label {cursor: pointer;display: block;width: 100%;margin-bottom: 0;padding: 0.3em;box-sizing: border-box;text-align: center;}#sk-container-id-1 label.sk-toggleable__label-arrow:before {content: \"▸\";float: left;margin-right: 0.25em;color: #696969;}#sk-container-id-1 label.sk-toggleable__label-arrow:hover:before {color: black;}#sk-container-id-1 div.sk-estimator:hover label.sk-toggleable__label-arrow:before {color: black;}#sk-container-id-1 div.sk-toggleable__content {max-height: 0;max-width: 0;overflow: hidden;text-align: left;background-color: #f0f8ff;}#sk-container-id-1 div.sk-toggleable__content pre {margin: 0.2em;color: black;border-radius: 0.25em;background-color: #f0f8ff;}#sk-container-id-1 input.sk-toggleable__control:checked~div.sk-toggleable__content {max-height: 200px;max-width: 100%;overflow: auto;}#sk-container-id-1 input.sk-toggleable__control:checked~label.sk-toggleable__label-arrow:before {content: \"▾\";}#sk-container-id-1 div.sk-estimator input.sk-toggleable__control:checked~label.sk-toggleable__label {background-color: #d4ebff;}#sk-container-id-1 div.sk-label input.sk-toggleable__control:checked~label.sk-toggleable__label {background-color: #d4ebff;}#sk-container-id-1 input.sk-hidden--visually {border: 0;clip: rect(1px 1px 1px 1px);clip: rect(1px, 1px, 1px, 1px);height: 1px;margin: -1px;overflow: hidden;padding: 0;position: absolute;width: 1px;}#sk-container-id-1 div.sk-estimator {font-family: monospace;background-color: #f0f8ff;border: 1px dotted black;border-radius: 0.25em;box-sizing: border-box;margin-bottom: 0.5em;}#sk-container-id-1 div.sk-estimator:hover {background-color: #d4ebff;}#sk-container-id-1 div.sk-parallel-item::after {content: \"\";width: 100%;border-bottom: 1px solid gray;flex-grow: 1;}#sk-container-id-1 div.sk-label:hover label.sk-toggleable__label {background-color: #d4ebff;}#sk-container-id-1 div.sk-serial::before {content: \"\";position: absolute;border-left: 1px solid gray;box-sizing: border-box;top: 0;bottom: 0;left: 50%;z-index: 0;}#sk-container-id-1 div.sk-serial {display: flex;flex-direction: column;align-items: center;background-color: white;padding-right: 0.2em;padding-left: 0.2em;position: relative;}#sk-container-id-1 div.sk-item {position: relative;z-index: 1;}#sk-container-id-1 div.sk-parallel {display: flex;align-items: stretch;justify-content: center;background-color: white;position: relative;}#sk-container-id-1 div.sk-item::before, #sk-container-id-1 div.sk-parallel-item::before {content: \"\";position: absolute;border-left: 1px solid gray;box-sizing: border-box;top: 0;bottom: 0;left: 50%;z-index: -1;}#sk-container-id-1 div.sk-parallel-item {display: flex;flex-direction: column;z-index: 1;position: relative;background-color: white;}#sk-container-id-1 div.sk-parallel-item:first-child::after {align-self: flex-end;width: 50%;}#sk-container-id-1 div.sk-parallel-item:last-child::after {align-self: flex-start;width: 50%;}#sk-container-id-1 div.sk-parallel-item:only-child::after {width: 0;}#sk-container-id-1 div.sk-dashed-wrapped {border: 1px dashed gray;margin: 0 0.4em 0.5em 0.4em;box-sizing: border-box;padding-bottom: 0.4em;background-color: white;}#sk-container-id-1 div.sk-label label {font-family: monospace;font-weight: bold;display: inline-block;line-height: 1.2em;}#sk-container-id-1 div.sk-label-container {text-align: center;}#sk-container-id-1 div.sk-container {/* jupyter's `normalize.less` sets `[hidden] { display: none; }` but bootstrap.min.css set `[hidden] { display: none !important; }` so we also need the `!important` here to be able to override the default hidden behavior on the sphinx rendered scikit-learn.org. See: https://github.com/scikit-learn/scikit-learn/issues/21755 */display: inline-block !important;position: relative;}#sk-container-id-1 div.sk-text-repr-fallback {display: none;}</style><div id=\"sk-container-id-1\" class=\"sk-top-container\"><div class=\"sk-text-repr-fallback\"><pre>LogisticRegression(max_iter=1000, multi_class=&#x27;multinomial&#x27;)</pre><b>In a Jupyter environment, please rerun this cell to show the HTML representation or trust the notebook. <br />On GitHub, the HTML representation is unable to render, please try loading this page with nbviewer.org.</b></div><div class=\"sk-container\" hidden><div class=\"sk-item\"><div class=\"sk-estimator sk-toggleable\"><input class=\"sk-toggleable__control sk-hidden--visually\" id=\"sk-estimator-id-1\" type=\"checkbox\" checked><label for=\"sk-estimator-id-1\" class=\"sk-toggleable__label sk-toggleable__label-arrow\">LogisticRegression</label><div class=\"sk-toggleable__content\"><pre>LogisticRegression(max_iter=1000, multi_class=&#x27;multinomial&#x27;)</pre></div></div></div></div></div>"
      ],
      "text/plain": [
       "LogisticRegression(max_iter=1000, multi_class='multinomial')"
      ]
     },
     "execution_count": 21,
     "metadata": {},
     "output_type": "execute_result"
    }
   ],
   "source": [
    "model1.fit(X_train, Y_train.iloc[:,1])\n",
    "model2.fit(X_train,Y_train.iloc[:,2])"
   ]
  },
  {
   "cell_type": "code",
   "execution_count": 25,
   "id": "4d85fd23-1db0-4057-b0e6-4c6fe23d5f8f",
   "metadata": {},
   "outputs": [],
   "source": [
    "X_test = pd.read_csv(\"test_set_features.csv\")\n"
   ]
  },
  {
   "cell_type": "code",
   "execution_count": 27,
   "id": "83aeccdc-b979-46c9-9567-5aea1267acc1",
   "metadata": {},
   "outputs": [],
   "source": [
    "X_test['xyz_concern'].fillna(X_test['xyz_concern'].median(), inplace=True)\n",
    "X_test['xyz_knowledge'].fillna(X_test['xyz_knowledge'].median(), inplace=True)\n",
    "X_test['household_adults'].fillna(X_test['household_adults'].median(), inplace=True)\n",
    "X_test['household_children'].fillna(X_test['household_children'].median(), inplace=True)\n",
    "X_test['behavioral_avoidance'].fillna(0,inplace = True)\n",
    "X_test['behavioral_touch_face'].fillna(0,inplace = True)\n",
    "X_test['behavioral_large_gatherings'].fillna(0,inplace = True)\n",
    "X_test['behavioral_antiviral_meds'].fillna(0,inplace = True)\n",
    "X_test['behavioral_outside_home'].fillna(0,inplace = True)\n",
    "X_test['behavioral_wash_hands'].fillna(0,inplace = True)\n",
    "X_test['behavioral_face_mask'].fillna(0,inplace = True)\n",
    "X_test['doctor_recc_xyz'].fillna(0, inplace=True)\n",
    "X_test['doctor_recc_seasonal'].fillna(0, inplace=True)\n",
    "X_test['opinion_xyz_vacc_effective'].fillna(X_test['opinion_xyz_vacc_effective'].mode()[0], inplace=True)\n",
    "X_test['opinion_xyz_risk'].fillna(X_test['opinion_xyz_risk'].mode()[0], inplace=True)\n",
    "X_test['opinion_xyz_sick_from_vacc'].fillna(X_test['opinion_xyz_sick_from_vacc'].mode()[0], inplace=True)\n",
    "X_test['opinion_seas_vacc_effective'].fillna(X_test['opinion_seas_vacc_effective'].mode()[0], inplace=True)\n",
    "X_test['opinion_seas_risk'].fillna(X_test['opinion_seas_risk'].mode()[0], inplace=True)\n",
    "X_test['opinion_seas_sick_from_vacc'].fillna(X_test['opinion_seas_sick_from_vacc'].mode()[0], inplace=True)\n",
    "X_test['child_under_6_months'].fillna(0, inplace=True)\n",
    "X_test['health_worker'].fillna(0, inplace=True)\n",
    "cleanup_nums = {\"sex\":     {\"Male\": 0, \"Female\": 1},\n",
    "               \"marital_status\": {\"Married\": 1, \"Not Married\": 0 },\n",
    "               \"rent_or_own\":{\"Rent\":0,\"Own\":1},\n",
    "               \"income_poverty\":{'Below Poverty':0,'<= $75,000, Above Poverty':1,'> $75,000':2},\n",
    "               \"employment_status\":{'Unemployed':0,'Not in Labor Force':1,'Employed':2},\n",
    "               \"education\":{'< 12 Years':0,'12 Years':1,'Some College':2,'College Graduate':3}}\n",
    "X_test = X_test.replace(cleanup_nums)\n",
    "X_test = X_test.drop(['employment_industry','employment_occupation','health_insurance'],axis=1)\n",
    "X_test = pd.get_dummies(X_test, columns=['age_group','race','census_msa','hhs_geo_region'],dtype='int32',drop_first = True)\n",
    "X_test['employment_status'].fillna(0, inplace=True)\n",
    "X_test['rent_or_own'].fillna(X_test.rent_or_own.mode()[0], inplace=True)\n",
    "X_test['marital_status'].fillna(0, inplace=True)\n",
    "X_test['income_poverty'].fillna(X_test.income_poverty.mode()[0], inplace=True)\n",
    "X_test['education'].fillna(0, inplace=True)\n",
    "X_test['chronic_med_condition'].fillna(0, inplace=True)"
   ]
  },
  {
   "cell_type": "code",
   "execution_count": 33,
   "id": "d0914bce-7548-425e-8652-5220a9099a23",
   "metadata": {},
   "outputs": [
    {
     "data": {
      "text/plain": [
       "(26708, 47)"
      ]
     },
     "execution_count": 33,
     "metadata": {},
     "output_type": "execute_result"
    }
   ],
   "source": [
    "X_test.shape"
   ]
  },
  {
   "cell_type": "code",
   "execution_count": 47,
   "id": "c7660f70-118a-497e-b003-f8a0fccdcbb2",
   "metadata": {},
   "outputs": [],
   "source": [
    "y1_probability = model1.predict_proba(X_test)\n",
    "y2_probability = model2.predict_proba(X_test)"
   ]
  },
  {
   "cell_type": "code",
   "execution_count": 53,
   "id": "1d22383c-079f-4a59-9dab-69de2906aac3",
   "metadata": {},
   "outputs": [
    {
     "data": {
      "text/html": [
       "<div>\n",
       "<style scoped>\n",
       "    .dataframe tbody tr th:only-of-type {\n",
       "        vertical-align: middle;\n",
       "    }\n",
       "\n",
       "    .dataframe tbody tr th {\n",
       "        vertical-align: top;\n",
       "    }\n",
       "\n",
       "    .dataframe thead th {\n",
       "        text-align: right;\n",
       "    }\n",
       "</style>\n",
       "<table border=\"1\" class=\"dataframe\">\n",
       "  <thead>\n",
       "    <tr style=\"text-align: right;\">\n",
       "      <th></th>\n",
       "      <th>prob_of_xyz_vaccine_not_taken</th>\n",
       "      <th>prob_of_xyz_vaccine_taken</th>\n",
       "    </tr>\n",
       "  </thead>\n",
       "  <tbody>\n",
       "    <tr>\n",
       "      <th>0</th>\n",
       "      <td>0.946081</td>\n",
       "      <td>0.053919</td>\n",
       "    </tr>\n",
       "    <tr>\n",
       "      <th>1</th>\n",
       "      <td>0.910149</td>\n",
       "      <td>0.089851</td>\n",
       "    </tr>\n",
       "    <tr>\n",
       "      <th>2</th>\n",
       "      <td>0.856560</td>\n",
       "      <td>0.143440</td>\n",
       "    </tr>\n",
       "    <tr>\n",
       "      <th>3</th>\n",
       "      <td>0.358007</td>\n",
       "      <td>0.641993</td>\n",
       "    </tr>\n",
       "    <tr>\n",
       "      <th>4</th>\n",
       "      <td>0.891504</td>\n",
       "      <td>0.108496</td>\n",
       "    </tr>\n",
       "    <tr>\n",
       "      <th>...</th>\n",
       "      <td>...</td>\n",
       "      <td>...</td>\n",
       "    </tr>\n",
       "    <tr>\n",
       "      <th>26703</th>\n",
       "      <td>0.668738</td>\n",
       "      <td>0.331262</td>\n",
       "    </tr>\n",
       "    <tr>\n",
       "      <th>26704</th>\n",
       "      <td>0.952790</td>\n",
       "      <td>0.047210</td>\n",
       "    </tr>\n",
       "    <tr>\n",
       "      <th>26705</th>\n",
       "      <td>0.793296</td>\n",
       "      <td>0.206704</td>\n",
       "    </tr>\n",
       "    <tr>\n",
       "      <th>26706</th>\n",
       "      <td>0.953454</td>\n",
       "      <td>0.046546</td>\n",
       "    </tr>\n",
       "    <tr>\n",
       "      <th>26707</th>\n",
       "      <td>0.827387</td>\n",
       "      <td>0.172613</td>\n",
       "    </tr>\n",
       "  </tbody>\n",
       "</table>\n",
       "<p>26708 rows × 2 columns</p>\n",
       "</div>"
      ],
      "text/plain": [
       "       prob_of_xyz_vaccine_not_taken  prob_of_xyz_vaccine_taken\n",
       "0                           0.946081                   0.053919\n",
       "1                           0.910149                   0.089851\n",
       "2                           0.856560                   0.143440\n",
       "3                           0.358007                   0.641993\n",
       "4                           0.891504                   0.108496\n",
       "...                              ...                        ...\n",
       "26703                       0.668738                   0.331262\n",
       "26704                       0.952790                   0.047210\n",
       "26705                       0.793296                   0.206704\n",
       "26706                       0.953454                   0.046546\n",
       "26707                       0.827387                   0.172613\n",
       "\n",
       "[26708 rows x 2 columns]"
      ]
     },
     "execution_count": 53,
     "metadata": {},
     "output_type": "execute_result"
    }
   ],
   "source": [
    "y1 = pd.DataFrame(y1_probability)\n",
    "y1.columns = ['prob_of_xyz_vaccine_not_taken','prob_of_xyz_vaccine_taken']\n",
    "y1"
   ]
  },
  {
   "cell_type": "code",
   "execution_count": 55,
   "id": "7e52dc47-d88e-4a0a-8787-96dbea382393",
   "metadata": {},
   "outputs": [
    {
     "data": {
      "text/html": [
       "<div>\n",
       "<style scoped>\n",
       "    .dataframe tbody tr th:only-of-type {\n",
       "        vertical-align: middle;\n",
       "    }\n",
       "\n",
       "    .dataframe tbody tr th {\n",
       "        vertical-align: top;\n",
       "    }\n",
       "\n",
       "    .dataframe thead th {\n",
       "        text-align: right;\n",
       "    }\n",
       "</style>\n",
       "<table border=\"1\" class=\"dataframe\">\n",
       "  <thead>\n",
       "    <tr style=\"text-align: right;\">\n",
       "      <th></th>\n",
       "      <th>prob_of_seasonal_vaccine_not_taken</th>\n",
       "      <th>prob_of_seasonal_vaccine_taken</th>\n",
       "    </tr>\n",
       "  </thead>\n",
       "  <tbody>\n",
       "    <tr>\n",
       "      <th>0</th>\n",
       "      <td>0.750966</td>\n",
       "      <td>0.249034</td>\n",
       "    </tr>\n",
       "    <tr>\n",
       "      <th>1</th>\n",
       "      <td>0.776406</td>\n",
       "      <td>0.223594</td>\n",
       "    </tr>\n",
       "    <tr>\n",
       "      <th>2</th>\n",
       "      <td>0.552936</td>\n",
       "      <td>0.447064</td>\n",
       "    </tr>\n",
       "    <tr>\n",
       "      <th>3</th>\n",
       "      <td>0.246931</td>\n",
       "      <td>0.753069</td>\n",
       "    </tr>\n",
       "    <tr>\n",
       "      <th>4</th>\n",
       "      <td>0.569584</td>\n",
       "      <td>0.430416</td>\n",
       "    </tr>\n",
       "    <tr>\n",
       "      <th>...</th>\n",
       "      <td>...</td>\n",
       "      <td>...</td>\n",
       "    </tr>\n",
       "    <tr>\n",
       "      <th>26703</th>\n",
       "      <td>0.648499</td>\n",
       "      <td>0.351501</td>\n",
       "    </tr>\n",
       "    <tr>\n",
       "      <th>26704</th>\n",
       "      <td>0.848771</td>\n",
       "      <td>0.151229</td>\n",
       "    </tr>\n",
       "    <tr>\n",
       "      <th>26705</th>\n",
       "      <td>0.487072</td>\n",
       "      <td>0.512928</td>\n",
       "    </tr>\n",
       "    <tr>\n",
       "      <th>26706</th>\n",
       "      <td>0.684299</td>\n",
       "      <td>0.315701</td>\n",
       "    </tr>\n",
       "    <tr>\n",
       "      <th>26707</th>\n",
       "      <td>0.569815</td>\n",
       "      <td>0.430185</td>\n",
       "    </tr>\n",
       "  </tbody>\n",
       "</table>\n",
       "<p>26708 rows × 2 columns</p>\n",
       "</div>"
      ],
      "text/plain": [
       "       prob_of_seasonal_vaccine_not_taken  prob_of_seasonal_vaccine_taken\n",
       "0                                0.750966                        0.249034\n",
       "1                                0.776406                        0.223594\n",
       "2                                0.552936                        0.447064\n",
       "3                                0.246931                        0.753069\n",
       "4                                0.569584                        0.430416\n",
       "...                                   ...                             ...\n",
       "26703                            0.648499                        0.351501\n",
       "26704                            0.848771                        0.151229\n",
       "26705                            0.487072                        0.512928\n",
       "26706                            0.684299                        0.315701\n",
       "26707                            0.569815                        0.430185\n",
       "\n",
       "[26708 rows x 2 columns]"
      ]
     },
     "execution_count": 55,
     "metadata": {},
     "output_type": "execute_result"
    }
   ],
   "source": [
    "y2 = pd.DataFrame(y2_probability)\n",
    "y2.columns = ['prob_of_seasonal_vaccine_not_taken','prob_of_seasonal_vaccine_taken']\n",
    "y2"
   ]
  },
  {
   "cell_type": "code",
   "execution_count": 63,
   "id": "ad3291e0-dfba-4fca-9f4b-ba9cd7126d43",
   "metadata": {},
   "outputs": [
    {
     "name": "stdout",
     "output_type": "stream",
     "text": [
      "Columns written to Excel successfully.\n"
     ]
    }
   ],
   "source": [
    "sheet_col_1 = y1.iloc[:,1]\n",
    "sheet_col_2 = y2.iloc[:,1]\n",
    "combined_df = pd.DataFrame({\n",
    "    'xyz_vaccine': sheet_col_1,\n",
    "    'seasonal_vaccine': sheet_col_2\n",
    "})\n",
    "combined_df.to_excel('final_submission_by_me.xlsx', index=False, sheet_name='Sheet1')\n",
    "print(\"Columns written to Excel successfully.\")"
   ]
  }
 ],
 "metadata": {
  "kernelspec": {
   "display_name": "Python 3 (ipykernel)",
   "language": "python",
   "name": "python3"
  },
  "language_info": {
   "codemirror_mode": {
    "name": "ipython",
    "version": 3
   },
   "file_extension": ".py",
   "mimetype": "text/x-python",
   "name": "python",
   "nbconvert_exporter": "python",
   "pygments_lexer": "ipython3",
   "version": "3.11.7"
  }
 },
 "nbformat": 4,
 "nbformat_minor": 5
}
